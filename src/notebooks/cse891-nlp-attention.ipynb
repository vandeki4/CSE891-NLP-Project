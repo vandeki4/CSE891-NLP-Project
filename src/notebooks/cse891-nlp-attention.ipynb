{
 "cells": [
  {
   "cell_type": "code",
   "execution_count": 1,
   "metadata": {
    "_cell_guid": "b1076dfc-b9ad-4769-8c92-a6c4dae69d19",
    "_uuid": "8f2839f25d086af736a60e9eeb907d3b93b6e0e5"
   },
   "outputs": [],
   "source": [
    "# This Python 3 environment comes with many helpful analytics libraries installed\n",
    "# It is defined by the kaggle/python docker image: https://github.com/kaggle/docker-python\n",
    "# For example, here's several helpful packages to load in \n",
    "\n",
    "import numpy as np # linear algebra\n",
    "import pandas as pd # data processing, CSV file I/O (e.g. pd.read_csv)\n",
    "import spacy\n",
    "import tensorflow as tf\n",
    "\n",
    "# Input data files are available in the \"../input/\" directory.\n",
    "# For example, running this (by clicking run or pressing Shift+Enter) will list all files under the input directory\n",
    "\n",
    "# import os\n",
    "# for dirname, _, filenames in os.walk('/kaggle/input'):\n",
    "#     for filename in filenames:\n",
    "#         print(os.path.join(dirname, filename))\n",
    "\n",
    "# Any results you write to the current directory are saved as output."
   ]
  },
  {
   "cell_type": "markdown",
   "metadata": {},
   "source": [
    "# Europarl Dataset\n",
    "Here are the first couple lines from the English portion and the cooresponding portion in Spanish."
   ]
  },
  {
   "cell_type": "code",
   "execution_count": 2,
   "metadata": {
    "_cell_guid": "79c7e3d0-c299-4dcb-8224-4455121ee9b0",
    "_uuid": "d629ff2d2480ee46fbb7e2d37f6b5fab8052498a"
   },
   "outputs": [
    {
     "name": "stdout",
     "output_type": "stream",
     "text": [
      " \n",
      "\n",
      "Resumption of the session I declare resumed the session of the European Parliament adjourned on Friday , 21 January 2000 .\n",
      "\n",
      "Madam President , allow me to remind you that tomorrow will be the second anniversary of the Cermis tragedy .\n",
      "\n",
      " \n",
      "\n",
      "Reanudación del período de sesiones Declaro reanudado el período de sesiones del Parlamento Europeo , interrumpido el viernes 21 de enero de 2000 .\n",
      "\n",
      "Señora Presidenta , permítame recordar que mañana se cumple el segundo aniversario de la tragedia del Cermis .\n",
      "\n"
     ]
    }
   ],
   "source": [
    "with open('/kaggle/input/europarl/europarl_raw/ep-00-02-02.en','r') as f:\n",
    "    for i, line in enumerate(f):\n",
    "        print(line)\n",
    "        if i > 1:\n",
    "            break\n",
    "with open('/kaggle/input/europarl/europarl_raw/ep-00-02-02.es','r') as f:\n",
    "    for i, line in enumerate(f):\n",
    "        print(line)\n",
    "        if i > 1:\n",
    "            break"
   ]
  },
  {
   "cell_type": "markdown",
   "metadata": {},
   "source": [
    "# Pig Latin\n",
    "As a toy dataset, this function takes tokens and turns them into their piglatin variant."
   ]
  },
  {
   "cell_type": "code",
   "execution_count": 3,
   "metadata": {},
   "outputs": [],
   "source": [
    "def piglatin(tokens):\n",
    "    tokens_clean = map(lambda token: token.lower().strip(), tokens)\n",
    "    \n",
    "    def is_vowel(char):\n",
    "        return char in {'a', 'e', 'i', 'o', 'u'}\n",
    "    \n",
    "    def piglatin_word(word):\n",
    "        if is_vowel(word[0]):\n",
    "            # Vowel\n",
    "            return word + 'way'\n",
    "        elif word[0].isalpha():\n",
    "            # Consonant\n",
    "            return word[1:] + word[0] + 'ay'\n",
    "        else:\n",
    "            # Unknown, punctuation probably\n",
    "            return word\n",
    "    \n",
    "    return map(piglatin_word, tokens_clean)"
   ]
  },
  {
   "cell_type": "code",
   "execution_count": 4,
   "metadata": {},
   "outputs": [
    {
     "data": {
      "text/plain": [
       "'histay illway akemay anyway iterableway ollectioncay ofway okenstay intoway igpay atinlay .'"
      ]
     },
     "execution_count": 4,
     "metadata": {},
     "output_type": "execute_result"
    }
   ],
   "source": [
    "' '.join(piglatin(\"This will make any iterable collection of tokens into pig latin .\".split()))"
   ]
  },
  {
   "cell_type": "code",
   "execution_count": null,
   "metadata": {},
   "outputs": [],
   "source": []
  }
 ],
 "metadata": {
  "kernelspec": {
   "display_name": "Python 3",
   "language": "python",
   "name": "python3"
  },
  "language_info": {
   "codemirror_mode": {
    "name": "ipython",
    "version": 3
   },
   "file_extension": ".py",
   "mimetype": "text/x-python",
   "name": "python",
   "nbconvert_exporter": "python",
   "pygments_lexer": "ipython3",
   "version": "3.6.6"
  }
 },
 "nbformat": 4,
 "nbformat_minor": 1
}
